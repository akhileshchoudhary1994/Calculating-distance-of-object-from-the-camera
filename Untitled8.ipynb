{
 "cells": [
  {
   "cell_type": "code",
   "execution_count": null,
   "metadata": {},
   "outputs": [
    {
     "name": "stdout",
     "output_type": "stream",
     "text": [
      "163.63636363636363\n"
     ]
    }
   ],
   "source": [
    "import cv2 \n",
    "# variables \n",
    "# distance from camera to object(face) measured\n",
    "Known_distance = 30 #centimeter\n",
    "# width of face in the real world or Object Plane\n",
    "Known_width =14.3 \n",
    "# Colors\n",
    "GREEN = (0,255,0)\n",
    "RED = (0,0,255)\n",
    "WHITE = (255,255,255)\n",
    "fonts = cv2.FONT_HERSHEY_COMPLEX\n",
    "cap = cv2.VideoCapture(0)\n",
    "# face detector object\n",
    "face_detector = cv2.CascadeClassifier(\"C:/Users/Akhilesh/Haarcascades/haarcascade_frontalface_default.xml\")\n",
    "# focal length finder function  \n",
    "def FocalLength(measured_distance, real_width, width_in_rf_image):\n",
    "    focal_length = (width_in_rf_image* measured_distance)/ real_width\n",
    "    return focal_length\n",
    "# distance estimation function\n",
    "def Distance_finder (Focal_Length, real_face_width, face_width_in_frame):\n",
    "    distance = (real_face_width * Focal_Length)/face_width_in_frame\n",
    "    return distance\n",
    "\n",
    "def face_data(image):\n",
    "    face_width = 0 \n",
    "    gray_image = cv2.cvtColor(image, cv2.COLOR_BGR2GRAY)\n",
    "    faces = face_detector.detectMultiScale(gray_image, 1.3, 5)\n",
    "    for (x, y, h, w) in faces:\n",
    "        cv2.rectangle(image, (x, y), (x+w, y+h), WHITE, 1)\n",
    "        face_width = w\n",
    "\n",
    "    return face_width\n",
    "\n",
    "# reading reference image from directory\n",
    "ref_image = cv2.imread(\"C:/Users/Akhilesh/Desktop/ssc_cgl photo.jpg\")\n",
    "\n",
    "ref_image_face_width = face_data(ref_image)\n",
    "Focal_length_found = FocalLength(Known_distance, Known_width, ref_image_face_width)\n",
    "print(Focal_length_found)\n",
    "cv2.imshow(\"ref_image\", ref_image)\n",
    "\n",
    "while True:\n",
    "    _, frame = cap.read()\n",
    "\n",
    "    # calling face_data function\n",
    "    face_width_in_frame = face_data(frame)\n",
    "    # finding the distance by calling function Distance finder\n",
    "    if face_width_in_frame !=0:\n",
    "        Distance = Distance_finder(Focal_length_found, Known_width,face_width_in_frame)\n",
    "    # Drwaing Text on the screen\n",
    "        cv2.putText(frame, f\"Distance = {Distance}\", (50,50), fonts,1, (WHITE),2)\n",
    "    cv2.imshow(\"frame\", frame )\n",
    "    if cv2.waitKey(1)==ord(\"q\"):\n",
    "        break \n",
    "cap.release()\n",
    "cv2.destroyAllWindows()"
   ]
  },
  {
   "cell_type": "code",
   "execution_count": null,
   "metadata": {},
   "outputs": [],
   "source": []
  }
 ],
 "metadata": {
  "kernelspec": {
   "display_name": "Python 3",
   "language": "python",
   "name": "python3"
  },
  "language_info": {
   "codemirror_mode": {
    "name": "ipython",
    "version": 3
   },
   "file_extension": ".py",
   "mimetype": "text/x-python",
   "name": "python",
   "nbconvert_exporter": "python",
   "pygments_lexer": "ipython3",
   "version": "3.8.5"
  }
 },
 "nbformat": 4,
 "nbformat_minor": 4
}
